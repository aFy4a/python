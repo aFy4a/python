{
 "cells": [
   {
     "cell_type": "markdown",
     "source": [
       "# Генетическое программирование при помощи PyGAD\n"
     ]
   }
 ]
}
